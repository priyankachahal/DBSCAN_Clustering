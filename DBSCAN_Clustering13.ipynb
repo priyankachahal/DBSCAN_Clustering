{
  "nbformat": 4,
  "nbformat_minor": 0,
  "metadata": {
    "colab": {
      "name": "DBSCAN_Clustering13.ipynb",
      "version": "0.3.2",
      "provenance": [],
      "collapsed_sections": []
    },
    "kernelspec": {
      "name": "python3",
      "display_name": "Python 3"
    },
    "accelerator": "GPU"
  },
  "cells": [
    {
      "metadata": {
        "id": "QeoSWPM4GK9i",
        "colab_type": "code",
        "colab": {}
      },
      "cell_type": "code",
      "source": [
        "import numpy as np\n",
        "import pandas as pd\n",
        "import random\n",
        "from collections import defaultdict\n",
        "from scipy.sparse import csr_matrix\n",
        "from sklearn.decomposition import TruncatedSVD\n",
        "from sklearn.preprocessing import Normalizer\n",
        "from sklearn.neighbors import NearestNeighbors\n",
        "from sklearn.cluster import KMeans\n",
        "from sklearn.metrics.pairwise import pairwise_distances\n",
        "from sklearn.metrics.pairwise import euclidean_distances\n",
        "from sklearn.cluster import AgglomerativeClustering\n",
        "from sklearn import metrics\n",
        "import matplotlib.pyplot as plt\n",
        "import numpy"
      ],
      "execution_count": 0,
      "outputs": []
    },
    {
      "metadata": {
        "id": "CVykXM3xGK9p",
        "colab_type": "code",
        "colab": {}
      },
      "cell_type": "code",
      "source": [
        "#reading csr file and returning csr matrix by calculating ind,ptr and values in the file.\n",
        "def csr_read(fname, ftype=\"csr\", nidx=1):\n",
        "    \n",
        "    with open(fname) as f:\n",
        "        lines = f.readlines()\n",
        "        nrows = len(lines)\n",
        "        ncols = 0 \n",
        "        nnz = 0 \n",
        "        for i in range(nrows):\n",
        "            p = lines[i].split()\n",
        "            if len(p) % 2 != 0:\n",
        "                raise ValueError(\"Invalid CSR matrix\")\n",
        "            nnz += len(p)/2\n",
        "            nnz=int(nnz)\n",
        "            for j in range(0, len(p), 2): \n",
        "                cid = int(p[j]) - nidx\n",
        "                if cid+1 > ncols:\n",
        "                    ncols = cid+1\n",
        "    \n",
        "    val = np.zeros(nnz, dtype=np.float)\n",
        "    ind = np.zeros(nnz, dtype=np.int)\n",
        "    ptr = np.zeros(nrows+1, dtype=np.long)\n",
        "    n = 0 \n",
        "    for i in range(nrows):\n",
        "        p = lines[i].split()\n",
        "        for j in range(0, len(p), 2): \n",
        "            ind[n] = int(p[j]) - nidx\n",
        "            val[n] = float(p[j+1])\n",
        "            n += 1\n",
        "        ptr[i+1] = n \n",
        "    \n",
        "    assert(n == nnz)\n",
        "    \n",
        "    return csr_matrix((val, ind, ptr), shape=(nrows, ncols), dtype=np.float)"
      ],
      "execution_count": 0,
      "outputs": []
    },
    {
      "metadata": {
        "id": "Y8EV3v7kGK9s",
        "colab_type": "code",
        "colab": {}
      },
      "cell_type": "code",
      "source": [
        "#normalising csr matrix or term frequency by inverse document frequency to minimise impact of frequent words\n",
        "#returns normalised matrix\n",
        "def csr_idf(matrix, copy=False, **kargs):\n",
        "\n",
        "    if copy is True:\n",
        "        matrix = matrix.copy()\n",
        "    nrows = matrix.shape[0]\n",
        "    nnz = matrix.nnz\n",
        "    ind, val, ptr = matrix.indices, matrix.data, matrix.indptr\n",
        "    # document frequency\n",
        "    df = defaultdict(int)\n",
        "    for i in ind:\n",
        "        df[i] += 1\n",
        "    # inverse document frequency\n",
        "    for k,v in df.items():\n",
        "        df[k] = np.log(nrows / float(v)) \n",
        "    # scale by idf\n",
        "    for i in range(0, nnz):\n",
        "        val[i] *= df[ind[i]]\n",
        "        \n",
        "    return df if copy is False else matrix"
      ],
      "execution_count": 0,
      "outputs": []
    },
    {
      "metadata": {
        "id": "RpmbjiaBGl2B",
        "colab_type": "code",
        "outputId": "265603fb-a835-46d9-ad33-bc409ac341ca",
        "colab": {
          "base_uri": "https://localhost:8080/",
          "height": 122
        }
      },
      "cell_type": "code",
      "source": [
        "#from google.colab import drive\n",
        "#drive.mount('/content/drive')"
      ],
      "execution_count": 4,
      "outputs": [
        {
          "output_type": "stream",
          "text": [
            "Go to this URL in a browser: https://accounts.google.com/o/oauth2/auth?client_id=947318989803-6bn6qk8qdgf4n4g3pfee6491hc0brc4i.apps.googleusercontent.com&redirect_uri=urn%3Aietf%3Awg%3Aoauth%3A2.0%3Aoob&scope=email%20https%3A%2F%2Fwww.googleapis.com%2Fauth%2Fdocs.test%20https%3A%2F%2Fwww.googleapis.com%2Fauth%2Fdrive%20https%3A%2F%2Fwww.googleapis.com%2Fauth%2Fdrive.photos.readonly%20https%3A%2F%2Fwww.googleapis.com%2Fauth%2Fpeopleapi.readonly&response_type=code\n",
            "\n",
            "Enter your authorization code:\n",
            "··········\n",
            "Mounted at /content/drive\n"
          ],
          "name": "stdout"
        }
      ]
    },
    {
      "metadata": {
        "id": "Xfg147IlGK9x",
        "colab_type": "code",
        "colab": {}
      },
      "cell_type": "code",
      "source": [
        "#csr = csr_read('/content/drive/My Drive/DBSCAN_Assignment/train.dat', ftype=\"csr\", nidx=1)\n",
        "csr = csr_read('train.dat', ftype=\"csr\", nidx=1)\n",
        "csrMatrix=csr_idf(csr, copy=True)"
      ],
      "execution_count": 0,
      "outputs": []
    },
    {
      "metadata": {
        "id": "NsXDZSk4VRLV",
        "colab_type": "code",
        "outputId": "aef1a047-df9e-489a-f8d7-2b2543038ce2",
        "colab": {
          "base_uri": "https://localhost:8080/",
          "height": 34
        }
      },
      "cell_type": "code",
      "source": [
        "csrMatrix.shape"
      ],
      "execution_count": 6,
      "outputs": [
        {
          "output_type": "execute_result",
          "data": {
            "text/plain": [
              "(8580, 126355)"
            ]
          },
          "metadata": {
            "tags": []
          },
          "execution_count": 6
        }
      ]
    },
    {
      "metadata": {
        "id": "6VONbbynGK90",
        "colab_type": "code",
        "outputId": "df503800-e8d6-4421-b337-5b10ed24c5b4",
        "colab": {
          "base_uri": "https://localhost:8080/",
          "height": 51
        }
      },
      "cell_type": "code",
      "source": [
        "#performing dimensionality reduction using SVD to 150 components and normalising the output to inhibit impact of document length on distance computation\n",
        "print(\"Performing dimensionality reduction using LSA\")\n",
        "svd = TruncatedSVD(n_components=150, random_state=42)\n",
        "normalizer = Normalizer(copy=False)\n",
        "X=svd.fit_transform(csrMatrix)\n",
        "points=normalizer.fit_transform(X)\n",
        "\n",
        "explained_variance = svd.explained_variance_ratio_.sum()\n",
        "print(\"Explained variance of the SVD step: {}%\".format(\n",
        "        int(explained_variance * 100)))"
      ],
      "execution_count": 7,
      "outputs": [
        {
          "output_type": "stream",
          "text": [
            "Performing dimensionality reduction using LSA\n",
            "Explained variance of the SVD step: 39%\n"
          ],
          "name": "stdout"
        }
      ]
    },
    {
      "metadata": {
        "id": "95UMSStzJolp",
        "colab_type": "code",
        "colab": {}
      },
      "cell_type": "code",
      "source": [
        "kmeans = KMeans(n_clusters=101, n_jobs=-1).fit(X) #n_clusters=120 gives 0.39 NMI with minpts=2 eps=0.0000005+svd(n_components=150, random_state=42)"
      ],
      "execution_count": 0,
      "outputs": []
    },
    {
      "metadata": {
        "id": "_-HOwG9GKG7p",
        "colab_type": "code",
        "colab": {}
      },
      "cell_type": "code",
      "source": [
        "centers = kmeans.cluster_centers_\n",
        "labels = kmeans.labels_\n",
        "clusterList = [[i for i in range(len(labels)) if labels[i]==j] for j in range(len(centers))]"
      ],
      "execution_count": 0,
      "outputs": []
    },
    {
      "metadata": {
        "id": "Qf449TlRnn4W",
        "colab_type": "code",
        "outputId": "f1847c82-2efe-4bf5-caec-499b3123703d",
        "colab": {
          "base_uri": "https://localhost:8080/",
          "height": 34
        }
      },
      "cell_type": "code",
      "source": [
        "len(centers)"
      ],
      "execution_count": 272,
      "outputs": [
        {
          "output_type": "execute_result",
          "data": {
            "text/plain": [
              "101"
            ]
          },
          "metadata": {
            "tags": []
          },
          "execution_count": 272
        }
      ]
    },
    {
      "metadata": {
        "id": "yy30He95TfEQ",
        "colab_type": "code",
        "outputId": "a413a49a-bcab-4868-f789-1afd9eab99b5",
        "colab": {
          "base_uri": "https://localhost:8080/",
          "height": 286
        }
      },
      "cell_type": "code",
      "source": [
        "plt.scatter(X[:,0],X[:,1], c=labels, cmap='rainbow') \n",
        "plt.scatter(kmeans.cluster_centers_[:,0] ,centers[:,1], color='black')  "
      ],
      "execution_count": 273,
      "outputs": [
        {
          "output_type": "execute_result",
          "data": {
            "text/plain": [
              "<matplotlib.collections.PathCollection at 0x7f44c0793ef0>"
            ]
          },
          "metadata": {
            "tags": []
          },
          "execution_count": 273
        },
        {
          "output_type": "display_data",
          "data": {
            "image/png": "[encoded data removed]",
            "text/plain": [
              "<Figure size 432x288 with 1 Axes>"
            ]
          },
          "metadata": {
            "tags": []
          }
        }
      ]
    },
    {
      "metadata": {
        "id": "L9CilnjbcD-6",
        "colab_type": "code",
        "outputId": "c07fd51f-e6d5-4e69-d421-ab71ae8d53ef",
        "colab": {
          "base_uri": "https://localhost:8080/",
          "height": 286
        }
      },
      "cell_type": "code",
      "source": [
        "#Computing eps for minpts using K-distance graph and elbow point in it.\n",
        "nbrs = NearestNeighbors(n_neighbors=21,metric='euclidean').fit(points)\n",
        "distances, indices = nbrs.kneighbors(points)\n",
        "t=distances[:,-1]\n",
        "i=indices[:,0]\n",
        "a=np.sort(t)\n",
        "plt.axis([0, 8680, 0, 1.2])\n",
        "plt.plot(i,a)"
      ],
      "execution_count": 274,
      "outputs": [
        {
          "output_type": "execute_result",
          "data": {
            "text/plain": [
              "[<matplotlib.lines.Line2D at 0x7f44c079c588>]"
            ]
          },
          "metadata": {
            "tags": []
          },
          "execution_count": 274
        },
        {
          "output_type": "display_data",
          "data": {
            "image/png": "[encoded data removed]",
            "text/plain": [
              "<Figure size 432x288 with 1 Axes>"
            ]
          },
          "metadata": {
            "tags": []
          }
        }
      ]
    },
    {
      "metadata": {
        "id": "JXccFPiwJq4a",
        "colab_type": "code",
        "colab": {}
      },
      "cell_type": "code",
      "source": [
        "def inter_cluster(center1,center2):\n",
        "  distList = [np.linalg.norm(center1[0] - center2[j]) for j in range(len(center2))]\n",
        "  min_dist = min(distList)\n",
        "  for i in range(len(center1)):\n",
        "    distList = [np.linalg.norm(center1[i] - center2[j]) for j in range(len(center2))]\n",
        "    if min_dist >  min(distList):\n",
        "      min_dist  = min(distList)\n",
        "  return min_dist"
      ],
      "execution_count": 0,
      "outputs": []
    },
    {
      "metadata": {
        "id": "reYOTkUUGK-B",
        "colab_type": "code",
        "colab": {}
      },
      "cell_type": "code",
      "source": [
        "#setting minpts & eps(radius) for DBSCAN algorithms input\n",
        "minpts=3\n",
        "eps=0.0000005 "
      ],
      "execution_count": 0,
      "outputs": []
    },
    {
      "metadata": {
        "id": "StTqWHAb8Ump",
        "colab_type": "code",
        "colab": {}
      },
      "cell_type": "code",
      "source": [
        "def clusterDBSCAN(centers):\n",
        "  core = []\n",
        "  border = []\n",
        "  noise = []\n",
        "  neighborhoods = []\n",
        "  for i in range(len(centers)):\n",
        "    neighbors = []\n",
        "    if(i%10==0): \n",
        "      print('done with %d' % i)\n",
        "    for j in range(len(centers)):\n",
        "      if inter_cluster(centers[i],centers[j])<=eps:\n",
        "    # If the distance is below the threshold, add it to the neighbors list.\n",
        "        neighbors.append(j)\n",
        "      neighborhoods.append(neighbors)      \n",
        "    #if neighbors are more than minpts than add it to core list\n",
        "    if len(neighbors) > minpts :\n",
        "        core.append(i)\n",
        "    if len(neighbors) <= minpts:\n",
        "        for k in range(len(neighbors)):\n",
        "            if neighbors[k] in core:\n",
        "                border.append(i)\n",
        "                break\n",
        "    if i not in core and i not in border:\n",
        "        noise.append(i)\n",
        "  return core,border,noise\n",
        "  "
      ],
      "execution_count": 0,
      "outputs": []
    },
    {
      "metadata": {
        "id": "L1QEQGgfid2U",
        "colab_type": "code",
        "outputId": "5601b36f-3773-41df-dac3-293222441be2",
        "colab": {
          "base_uri": "https://localhost:8080/",
          "height": 255
        }
      },
      "cell_type": "code",
      "source": [
        "core,border,noise = clusterDBSCAN(centers)\n",
        "print(\"length of core points :\",len(core))\n",
        "print(\"length of border points:\",len(border))\n",
        "print(\"length of noise points:\",len(noise))"
      ],
      "execution_count": 278,
      "outputs": [
        {
          "output_type": "stream",
          "text": [
            "done with 0\n",
            "done with 10\n",
            "done with 20\n",
            "done with 30\n",
            "done with 40\n",
            "done with 50\n",
            "done with 60\n",
            "done with 70\n",
            "done with 80\n",
            "done with 90\n",
            "done with 100\n",
            "length of core points : 101\n",
            "length of border points: 0\n",
            "length of noise points: 0\n"
          ],
          "name": "stdout"
        }
      ]
    },
    {
      "metadata": {
        "id": "G4TANMiUGK-X",
        "colab_type": "code",
        "colab": {}
      },
      "cell_type": "code",
      "source": [
        "#creating graph to store core points in neighbourhood\n",
        "g = {item: [-1] for item in core}\n",
        "\n",
        "for i in range(len(core)):\n",
        "      for Pn in range(0, len(core)):\n",
        "       # If the distance is below the threshold than core points are connected in graph\n",
        "        if numpy.linalg.norm(labels[core[i]] - labels[core[Pn]]) < eps:\n",
        "            g[core[i]].append(core[Pn])"
      ],
      "execution_count": 0,
      "outputs": []
    },
    {
      "metadata": {
        "id": "GsfrPpVYGK-a",
        "colab_type": "code",
        "colab": {}
      },
      "cell_type": "code",
      "source": [
        "#removing default value added earlier\n",
        "for i,j in g.items():\n",
        "    g[i].remove(-1)"
      ],
      "execution_count": 0,
      "outputs": []
    },
    {
      "metadata": {
        "id": "9sKxEolVGK-f",
        "colab_type": "code",
        "colab": {}
      },
      "cell_type": "code",
      "source": [
        "#creating function to find connected core points\n",
        "def get_all_connected_groups(graph):\n",
        "    already_seen = set()\n",
        "    result = []\n",
        "    for node in graph:\n",
        "        if node not in already_seen:\n",
        "            connected_group, already_seen = get_connected_group(node, already_seen,graph)\n",
        "            result.append(connected_group)\n",
        "    return result"
      ],
      "execution_count": 0,
      "outputs": []
    },
    {
      "metadata": {
        "id": "uTK_EvSfGK-i",
        "colab_type": "code",
        "colab": {}
      },
      "cell_type": "code",
      "source": [
        "def get_connected_group(node, already_seen,graph):\n",
        "        result = []\n",
        "        nodes = set([node])\n",
        "        while nodes:\n",
        "            node = nodes.pop()\n",
        "            already_seen.add(node)\n",
        "            nodes = nodes or set(graph[node]) - already_seen\n",
        "            result.append(node)\n",
        "        return result, already_seen"
      ],
      "execution_count": 0,
      "outputs": []
    },
    {
      "metadata": {
        "id": "jRVQDLzWGK-m",
        "colab_type": "code",
        "colab": {}
      },
      "cell_type": "code",
      "source": [
        "#all the connected graphs are saved in list\n",
        "components = get_all_connected_groups(g)"
      ],
      "execution_count": 0,
      "outputs": []
    },
    {
      "metadata": {
        "id": "naFePojuGK-p",
        "colab_type": "code",
        "colab": {}
      },
      "cell_type": "code",
      "source": [
        "#Border points are added to nearest core point connected graph list\n",
        "count=0\n",
        "for i in range(len(border)):\n",
        "  neighbors = []\n",
        "# print('--------------------------')\n",
        "  for Pn in range(len(components)):\n",
        "    for j in range(len(components[Pn])):\n",
        "          \n",
        "        # If the distance is below the threshold, add it to the neighbors list.\n",
        "      if numpy.linalg.norm(labels[components[Pn][j]] - labels[border[i]]) < eps:\n",
        "        count=count+1\n",
        "    neighbors.append(count)\n",
        "    count=0\n",
        "  cluster_num=neighbors.index(max(neighbors))\n",
        "  components[cluster_num].append(border[i])"
      ],
      "execution_count": 0,
      "outputs": []
    },
    {
      "metadata": {
        "id": "QOgnkr2yGK-u",
        "colab_type": "code",
        "colab": {}
      },
      "cell_type": "code",
      "source": [
        "assigned_labels={}\n",
        "#Alloting labels to all elements in connected graph\n",
        "for i in range(1,len(components)+1):\n",
        "  for j in range(len(components[i-1])):\n",
        "    assigned_labels[components[i-1][j]]=i\n",
        "  no=i"
      ],
      "execution_count": 0,
      "outputs": []
    },
    {
      "metadata": {
        "id": "kSj-UUH4GK-1",
        "colab_type": "code",
        "colab": {}
      },
      "cell_type": "code",
      "source": [
        "#create separate cluster for noise points\n",
        "for i in range(len(noise)):\n",
        "    assigned_labels[noise[i]]=no+1"
      ],
      "execution_count": 0,
      "outputs": []
    },
    {
      "metadata": {
        "id": "mnffPDiGo03n",
        "colab_type": "code",
        "outputId": "79c7ab80-c31b-4386-d4b4-a9193703744d",
        "colab": {
          "base_uri": "https://localhost:8080/",
          "height": 54
        }
      },
      "cell_type": "code",
      "source": [
        "dictlist = [0] * len(labels)\n",
        "for i in range(len(assigned_labels)):\n",
        "  for j in clusterList[i]:\n",
        "    dictlist[j] = assigned_labels[i]\n",
        "print(dictlist)"
      ],
      "execution_count": 287,
      "outputs": [
        {
          "output_type": "stream",
          "text": [
            "[22, 28, 59, 31, 31, 3, 3, 24, 47, 3, 37, 6, 55, 21, 8, 28, 46, 59, 38, 5, 16, 3, 13, 51, 10, 59, 58, 37, 35, 50, 21, 9, 16, 11, 40, 39, 33, 39, 20, 59, 16, 3, 4, 8, 41, 6, 38, 10, 9, 4, 29, 33, 21, 21, 18, 11, 34, 4, 4, 25, 34, 9, 3, 5, 11, 8, 27, 14, 50, 49, 55, 8, 3, 10, 11, 37, 7, 1, 13, 24, 28, 52, 11, 39, 45, 6, 39, 31, 49, 19, 8, 24, 2, 42, 29, 4, 29, 17, 21, 36, 13, 31, 26, 27, 24, 7, 14, 49, 14, 19, 10, 19, 53, 11, 21, 14, 18, 21, 22, 42, 34, 19, 9, 9, 12, 45, 36, 19, 2, 9, 4, 32, 29, 3, 47, 28, 3, 56, 38, 47, 39, 53, 3, 40, 34, 39, 3, 39, 60, 8, 24, 49, 53, 49, 20, 20, 36, 20, 52, 20, 42, 21, 29, 26, 32, 37, 27, 8, 1, 13, 29, 56, 38, 9, 43, 39, 18, 30, 19, 58, 21, 32, 27, 14, 24, 21, 38, 5, 13, 36, 20, 3, 39, 9, 38, 9, 28, 21, 38, 35, 10, 13, 9, 2, 31, 24, 14, 21, 11, 36, 58, 12, 34, 43, 21, 27, 39, 29, 57, 19, 11, 55, 20, 2, 8, 38, 51, 34, 31, 3, 25, 10, 21, 47, 3, 11, 14, 5, 17, 39, 20, 54, 6, 13, 11, 35, 3, 4, 7, 21, 14, 21, 41, 39, 14, 44, 31, 11, 34, 8, 4, 48, 9, 21, 34, 24, 6, 11, 56, 8, 45, 18, 8, 14, 20, 2, 13, 24, 9, 2, 39, 3, 22, 25, 55, 18, 20, 25, 19, 9, 16, 27, 29, 35, 27, 47, 52, 19, 12, 3, 48, 37, 27, 49, 58, 10, 22, 41, 29, 59, 48, 22, 1, 29, 44, 24, 7, 6, 12, 60, 13, 1, 46, 32, 60, 36, 39, 7, 18, 11, 14, 44, 8, 48, 18, 49, 40, 1, 8, 14, 27, 20, 27, 7, 57, 45, 39, 20, 5, 5, 33, 39, 19, 7, 51, 27, 3, 54, 8, 15, 8, 21, 34, 43, 10, 39, 34, 17, 12, 43, 36, 34, 19, 48, 9, 9, 44, 14, 11, 41, 25, 21, 6, 48, 6, 35, 21, 13, 11, 2, 8, 8, 22, 59, 11, 46, 8, 18, 58, 38, 10, 17, 37, 29, 46, 13, 22, 31, 6, 18, 38, 21, 6, 21, 51, 50, 35, 28, 5, 56, 4, 60, 57, 14, 49, 52, 39, 1, 11, 14, 38, 30, 15, 22, 39, 28, 32, 5, 6, 38, 2, 20, 31, 38, 16, 8, 55, 39, 7, 31, 49, 3, 20, 24, 41, 59, 11, 1, 36, 38, 3, 6, 29, 17, 24, 3, 19, 42, 3, 2, 11, 59, 28, 8, 39, 20, 5, 5, 39, 29, 20, 28, 47, 30, 6, 2, 16, 39, 13, 48, 3, 11, 5, 10, 13, 35, 58, 48, 39, 51, 3, 10, 9, 47, 24, 14, 14, 11, 40, 54, 39, 3, 27, 46, 47, 28, 47, 10, 20, 20, 27, 27, 40, 3, 29, 17, 34, 31, 26, 29, 21, 53, 10, 28, 29, 11, 39, 22, 20, 39, 46, 41, 25, 36, 18, 53, 36, 40, 41, 25, 8, 46, 25, 53, 20, 18, 12, 10, 14, 28, 3, 60, 55, 39, 49, 54, 40, 46, 31, 14, 39, 25, 48, 6, 59, 28, 4, 34, 38, 16, 9, 14, 7, 5, 42, 43, 6, 33, 38, 12, 40, 21, 11, 8, 3, 4, 35, 31, 28, 20, 20, 47, 29, 16, 46, 10, 11, 14, 27, 24, 10, 3, 29, 31, 3, 28, 29, 13, 20, 51, 34, 20, 39, 7, 47, 8, 21, 13, 11, 22, 27, 8, 27, 8, 51, 21, 20, 9, 11, 24, 19, 11, 29, 14, 14, 39, 59, 32, 39, 23, 27, 27, 56, 16, 20, 46, 58, 55, 17, 20, 32, 1, 3, 42, 2, 14, 53, 23, 21, 43, 38, 42, 59, 4, 14, 10, 48, 39, 17, 11, 44, 5, 11, 47, 33, 11, 45, 32, 7, 3, 28, 27, 39, 7, 48, 19, 19, 47, 11, 12, 8, 33, 31, 20, 29, 52, 10, 39, 56, 18, 20, 3, 46, 31, 35, 55, 38, 11, 8, 3, 29, 58, 27, 38, 39, 26, 10, 22, 31, 39, 8, 55, 13, 19, 47, 6, 11, 20, 3, 27, 28, 38, 23, 40, 59, 42, 60, 24, 14, 40, 39, 19, 28, 2, 1, 6, 20, 53, 18, 27, 13, 27, 7, 55, 3, 10, 10, 4, 8, 3, 11, 36, 18, 21, 42, 6, 34, 16, 8, 20, 10, 47, 8, 1, 19, 19, 4, 27, 47, 46, 25, 35, 13, 5, 17, 42, 2, 37, 2, 46, 27, 9, 60, 11, 27, 46, 24, 11, 20, 49, 49, 20, 56, 35, 18, 40, 21, 2, 28, 3, 11, 16, 25, 26, 55, 24, 27, 24, 11, 24, 40, 34, 46, 27, 6, 5, 19, 59, 34, 58, 7, 49, 4, 53, 20, 39, 7, 39, 14, 3, 18, 39, 43, 7, 27, 56, 31, 24, 14, 39, 39, 58, 11, 13, 45, 59, 6, 8, 7, 56, 53, 6, 10, 56, 39, 29, 3, 28, 26, 58, 14, 3, 8, 3, 29, 22, 19, 60, 42, 24, 42, 14, 13, 8, 37, 60, 10, 7, 54, 5, 33, 26, 2, 42, 11, 29, 2, 39, 8, 5, 3, 11, 34, 46, 4, 29, 21, 6, 27, 21, 11, 16, 55, 3, 44, 52, 11, 55, 46, 21, 27, 51, 58, 6, 29, 6, 16, 27, 11, 26, 19, 9, 7, 20, 41, 32, 13, 56, 15, 13, 21, 32, 38, 50, 3, 57, 46, 2, 47, 4, 11, 38, 47, 28, 8, 29, 46, 39, 3, 2, 51, 6, 58, 25, 7, 5, 20, 27, 2, 19, 39, 59, 38, 9, 46, 17, 46, 15, 4, 20, 35, 20, 17, 41, 25, 1, 2, 19, 3, 27, 24, 58, 3, 58, 31, 19, 53, 11, 56, 12, 39, 46, 47, 47, 3, 37, 10, 36, 42, 47, 59, 20, 10, 49, 58, 28, 12, 9, 40, 35, 39, 59, 12, 60, 48, 9, 8, 3, 47, 53, 31, 22, 27, 29, 19, 59, 21, 6, 20, 34, 9, 19, 7, 55, 14, 3, 27, 19, 3, 6, 48, 2, 6, 22, 9, 39, 24, 55, 35, 28, 42, 6, 11, 34, 21, 57, 2, 55, 17, 53, 5, 18, 2, 19, 51, 21, 20, 17, 46, 19, 48, 29, 42, 39, 42, 14, 48, 14, 12, 16, 22, 24, 41, 29, 8, 5, 54, 47, 14, 47, 10, 47, 27, 14, 39, 21, 6, 11, 14, 38, 58, 11, 18, 20, 54, 45, 58, 7, 40, 9, 29, 21, 4, 33, 26, 22, 7, 48, 20, 27, 39, 27, 27, 40, 59, 45, 3, 10, 43, 29, 19, 6, 30, 6, 39, 46, 29, 35, 11, 20, 40, 47, 7, 16, 8, 10, 17, 47, 27, 33, 19, 58, 46, 39, 14, 3, 39, 42, 14, 22, 45, 20, 11, 39, 7, 19, 21, 25, 45, 21, 20, 8, 19, 39, 53, 39, 30, 25, 60, 37, 3, 39, 1, 37, 60, 59, 11, 10, 8, 43, 31, 20, 11, 39, 34, 2, 28, 17, 41, 39, 13, 14, 53, 20, 40, 42, 8, 3, 27, 60, 18, 26, 20, 42, 10, 39, 40, 14, 31, 3, 49, 57, 46, 31, 19, 39, 11, 46, 56, 14, 2, 8, 4, 59, 33, 14, 14, 39, 47, 11, 8, 46, 11, 3, 20, 37, 1, 12, 10, 6, 15, 19, 28, 19, 8, 12, 42, 29, 2, 31, 39, 21, 21, 11, 1, 5, 32, 6, 49, 6, 51, 14, 21, 38, 20, 22, 60, 11, 55, 20, 44, 40, 60, 12, 3, 49, 43, 28, 12, 10, 50, 19, 29, 14, 27, 46, 55, 37, 29, 32, 31, 4, 45, 27, 47, 42, 10, 58, 5, 13, 25, 31, 42, 29, 41, 46, 14, 10, 10, 50, 22, 3, 34, 20, 19, 8, 20, 27, 12, 6, 58, 7, 29, 10, 59, 3, 28, 45, 27, 11, 47, 48, 32, 17, 2, 17, 19, 38, 14, 48, 55, 42, 20, 39, 56, 60, 14, 53, 30, 40, 35, 53, 59, 28, 30, 13, 29, 35, 13, 35, 14, 27, 28, 39, 3, 3, 60, 47, 33, 51, 25, 3, 52, 28, 11, 51, 4, 9, 36, 39, 19, 57, 51, 47, 34, 25, 28, 20, 42, 58, 10, 3, 39, 47, 14, 24, 39, 17, 19, 2, 7, 29, 28, 19, 4, 50, 4, 53, 19, 13, 11, 28, 25, 8, 9, 26, 8, 6, 10, 57, 27, 34, 39, 8, 40, 25, 26, 11, 43, 6, 28, 10, 20, 51, 25, 22, 45, 5, 10, 10, 60, 50, 19, 27, 25, 51, 57, 29, 8, 55, 22, 51, 31, 6, 51, 27, 25, 42, 8, 34, 16, 16, 21, 10, 31, 50, 11, 20, 43, 28, 22, 33, 42, 38, 12, 25, 35, 16, 53, 58, 11, 9, 46, 9, 39, 43, 38, 19, 46, 16, 53, 47, 46, 32, 53, 8, 29, 3, 29, 59, 48, 55, 25, 20, 22, 37, 35, 4, 14, 55, 40, 9, 46, 34, 11, 14, 14, 3, 9, 20, 6, 21, 8, 40, 42, 6, 20, 14, 4, 29, 3, 38, 51, 43, 29, 7, 19, 11, 29, 15, 50, 10, 46, 48, 58, 10, 44, 52, 39, 8, 29, 14, 16, 37, 34, 20, 39, 24, 20, 2, 27, 24, 4, 34, 60, 3, 31, 7, 24, 11, 58, 43, 45, 42, 46, 24, 20, 38, 53, 19, 2, 26, 46, 55, 27, 55, 1, 39, 14, 31, 3, 8, 9, 25, 40, 8, 20, 10, 39, 20, 43, 6, 34, 14, 17, 54, 29, 2, 8, 48, 3, 27, 39, 3, 3, 20, 7, 31, 53, 4, 51, 14, 48, 25, 11, 12, 29, 44, 27, 53, 10, 19, 15, 10, 11, 4, 21, 11, 25, 44, 42, 39, 7, 9, 58, 5, 18, 7, 10, 5, 60, 56, 20, 8, 28, 59, 29, 39, 7, 14, 59, 46, 13, 13, 4, 58, 3, 40, 19, 53, 27, 19, 3, 39, 3, 24, 26, 9, 3, 14, 11, 47, 19, 20, 47, 56, 10, 58, 55, 27, 42, 21, 3, 3, 12, 8, 39, 39, 42, 42, 39, 12, 13, 1, 47, 11, 27, 24, 4, 46, 59, 24, 14, 34, 16, 21, 46, 32, 22, 9, 56, 14, 34, 53, 31, 4, 1, 41, 56, 47, 39, 53, 58, 14, 14, 21, 20, 19, 60, 3, 9, 10, 59, 48, 43, 11, 21, 27, 11, 13, 28, 26, 28, 3, 18, 14, 41, 54, 33, 47, 19, 7, 34, 39, 20, 46, 23, 10, 16, 39, 10, 23, 20, 42, 6, 59, 43, 1, 19, 46, 19, 14, 11, 11, 18, 46, 42, 16, 12, 39, 53, 49, 38, 31, 58, 32, 24, 33, 11, 13, 9, 16, 20, 29, 38, 24, 52, 11, 4, 14, 19, 25, 33, 44, 47, 32, 53, 38, 29, 46, 43, 57, 32, 47, 24, 58, 18, 26, 47, 58, 39, 7, 6, 18, 20, 37, 58, 12, 42, 20, 21, 58, 6, 21, 6, 42, 21, 26, 27, 54, 27, 14, 10, 47, 23, 48, 19, 31, 31, 28, 48, 22, 8, 47, 26, 51, 43, 40, 6, 24, 39, 27, 12, 9, 58, 59, 20, 40, 29, 11, 31, 11, 49, 32, 39, 59, 28, 27, 6, 12, 45, 43, 37, 31, 31, 28, 19, 3, 26, 20, 47, 59, 47, 25, 60, 18, 9, 6, 40, 27, 29, 58, 55, 28, 45, 7, 10, 16, 21, 11, 42, 38, 39, 29, 6, 18, 20, 29, 53, 12, 13, 4, 39, 33, 14, 1, 35, 42, 21, 12, 9, 50, 55, 39, 29, 38, 39, 24, 24, 14, 52, 19, 50, 39, 14, 58, 44, 27, 39, 46, 49, 29, 9, 32, 18, 28, 6, 48, 39, 14, 1, 36, 5, 60, 13, 22, 25, 38, 22, 16, 10, 9, 27, 13, 24, 20, 39, 59, 32, 34, 24, 40, 54, 2, 9, 6, 25, 31, 14, 38, 8, 12, 8, 39, 19, 16, 24, 56, 19, 6, 19, 24, 48, 40, 16, 14, 46, 21, 60, 13, 22, 13, 13, 59, 37, 6, 3, 60, 26, 9, 32, 28, 53, 6, 1, 40, 3, 20, 59, 11, 39, 9, 14, 8, 40, 32, 32, 51, 46, 28, 47, 46, 13, 27, 40, 31, 58, 27, 39, 42, 58, 15, 33, 8, 10, 42, 44, 11, 16, 10, 3, 9, 53, 20, 21, 57, 15, 10, 11, 50, 39, 28, 31, 31, 30, 38, 53, 37, 8, 39, 56, 21, 58, 25, 19, 2, 24, 20, 29, 1, 39, 27, 10, 16, 14, 25, 1, 9, 9, 11, 19, 47, 19, 60, 39, 39, 27, 38, 20, 39, 27, 8, 14, 43, 14, 10, 24, 14, 47, 47, 26, 29, 53, 39, 16, 37, 5, 34, 46, 8, 32, 39, 55, 48, 41, 39, 10, 25, 33, 41, 19, 42, 53, 31, 28, 31, 45, 55, 6, 18, 47, 39, 5, 9, 32, 31, 42, 10, 3, 57, 35, 27, 31, 26, 55, 60, 27, 28, 34, 13, 32, 51, 19, 3, 39, 4, 28, 26, 10, 31, 15, 11, 3, 29, 25, 14, 3, 44, 47, 38, 20, 59, 17, 29, 29, 29, 26, 13, 46, 27, 56, 47, 3, 13, 39, 46, 25, 58, 25, 14, 19, 42, 17, 3, 9, 59, 4, 28, 19, 27, 16, 2, 11, 54, 29, 39, 25, 42, 8, 25, 46, 45, 27, 49, 5, 20, 14, 2, 2, 34, 24, 29, 48, 14, 31, 20, 59, 6, 8, 29, 2, 41, 36, 45, 48, 37, 58, 28, 39, 12, 42, 32, 32, 10, 11, 57, 10, 20, 59, 6, 42, 47, 20, 29, 28, 37, 29, 39, 18, 11, 13, 7, 34, 3, 54, 8, 42, 49, 16, 5, 14, 16, 14, 39, 6, 38, 4, 51, 51, 7, 53, 3, 24, 43, 10, 47, 9, 7, 31, 13, 55, 20, 4, 10, 45, 39, 46, 58, 13, 2, 37, 9, 47, 27, 22, 17, 8, 10, 2, 10, 11, 39, 53, 52, 34, 21, 3, 11, 52, 18, 39, 10, 20, 59, 19, 38, 19, 51, 6, 2, 21, 14, 46, 3, 42, 43, 46, 28, 25, 54, 34, 26, 55, 38, 10, 20, 33, 9, 27, 37, 60, 31, 5, 59, 28, 16, 6, 28, 11, 11, 9, 42, 58, 29, 24, 21, 6, 58, 42, 9, 34, 21, 32, 9, 12, 25, 52, 47, 11, 12, 55, 3, 34, 27, 29, 12, 26, 55, 8, 39, 20, 17, 42, 13, 21, 24, 48, 8, 21, 38, 7, 45, 6, 12, 11, 51, 28, 31, 4, 3, 31, 19, 14, 29, 11, 27, 42, 21, 22, 20, 39, 26, 9, 39, 9, 16, 14, 27, 28, 39, 22, 2, 10, 33, 46, 25, 28, 40, 1, 6, 37, 60, 27, 9, 42, 31, 33, 60, 7, 59, 21, 11, 46, 39, 55, 33, 10, 31, 27, 41, 40, 46, 23, 42, 43, 16, 51, 40, 38, 3, 29, 39, 20, 20, 19, 26, 52, 42, 5, 27, 21, 14, 13, 37, 42, 40, 17, 46, 39, 8, 53, 2, 6, 42, 20, 9, 2, 58, 39, 45, 31, 24, 28, 22, 15, 39, 25, 1, 39, 18, 27, 13, 33, 55, 21, 11, 39, 42, 17, 7, 7, 12, 55, 6, 19, 12, 31, 25, 46, 53, 42, 50, 59, 54, 46, 3, 4, 31, 8, 17, 47, 20, 19, 8, 37, 20, 9, 5, 46, 3, 42, 52, 20, 11, 14, 39, 47, 56, 26, 21, 47, 28, 37, 34, 60, 59, 24, 48, 27, 45, 25, 53, 59, 8, 48, 58, 51, 3, 20, 9, 8, 5, 29, 27, 42, 3, 7, 21, 18, 34, 27, 4, 52, 25, 2, 39, 3, 20, 27, 4, 39, 58, 34, 58, 49, 49, 7, 56, 46, 21, 8, 4, 31, 14, 26, 3, 32, 28, 60, 9, 44, 29, 29, 36, 10, 2, 12, 49, 51, 11, 21, 8, 10, 26, 14, 39, 21, 2, 53, 2, 54, 58, 10, 36, 59, 34, 42, 20, 10, 55, 3, 41, 1, 32, 46, 6, 28, 8, 27, 23, 38, 31, 29, 10, 48, 1, 39, 10, 24, 51, 27, 10, 43, 2, 31, 39, 19, 27, 2, 3, 13, 29, 8, 19, 48, 51, 3, 3, 11, 56, 22, 34, 45, 16, 3, 39, 10, 14, 35, 39, 33, 39, 9, 58, 14, 3, 33, 58, 8, 51, 18, 6, 24, 6, 11, 11, 43, 27, 33, 8, 26, 29, 14, 31, 7, 39, 14, 10, 29, 55, 7, 8, 21, 1, 11, 39, 13, 3, 53, 39, 17, 51, 49, 43, 40, 60, 8, 14, 39, 29, 27, 10, 31, 39, 26, 25, 56, 25, 40, 3, 6, 27, 27, 22, 19, 2, 38, 22, 27, 21, 27, 24, 25, 6, 58, 35, 36, 28, 8, 11, 3, 9, 20, 23, 41, 10, 39, 42, 31, 53, 39, 17, 11, 43, 27, 50, 1, 38, 29, 10, 56, 14, 54, 25, 48, 3, 21, 20, 42, 39, 39, 53, 52, 39, 29, 6, 22, 59, 46, 50, 55, 27, 39, 10, 11, 14, 29, 3, 56, 38, 58, 21, 27, 28, 34, 51, 11, 7, 31, 31, 28, 12, 59, 27, 42, 14, 40, 57, 44, 46, 48, 10, 11, 8, 33, 44, 28, 10, 3, 54, 27, 8, 36, 42, 29, 29, 6, 27, 20, 39, 16, 50, 26, 27, 46, 47, 9, 18, 5, 60, 12, 8, 40, 11, 40, 16, 39, 45, 39, 56, 6, 29, 39, 22, 6, 58, 39, 28, 21, 10, 9, 13, 27, 20, 31, 39, 8, 6, 28, 29, 5, 7, 11, 29, 29, 8, 11, 24, 17, 59, 7, 49, 8, 39, 45, 14, 21, 24, 4, 13, 27, 31, 37, 11, 58, 29, 19, 53, 11, 31, 10, 59, 56, 16, 27, 59, 51, 6, 8, 22, 55, 9, 2, 7, 39, 10, 14, 55, 6, 22, 7, 37, 42, 19, 42, 4, 22, 8, 43, 13, 59, 38, 29, 51, 58, 38, 19, 39, 25, 55, 29, 27, 9, 39, 8, 14, 8, 20, 59, 15, 39, 31, 19, 39, 9, 20, 14, 9, 39, 5, 3, 21, 39, 40, 6, 39, 25, 14, 58, 24, 33, 51, 48, 25, 3, 54, 8, 13, 41, 27, 20, 41, 33, 39, 42, 3, 53, 48, 4, 7, 27, 25, 59, 42, 9, 6, 26, 29, 38, 49, 27, 34, 22, 31, 16, 27, 12, 25, 46, 7, 27, 3, 19, 39, 22, 27, 8, 3, 28, 27, 10, 39, 28, 47, 46, 20, 45, 14, 10, 20, 31, 42, 19, 46, 2, 28, 3, 3, 11, 41, 25, 28, 28, 2, 5, 6, 10, 2, 45, 10, 8, 10, 45, 46, 10, 6, 46, 27, 43, 9, 28, 42, 11, 32, 53, 19, 54, 3, 47, 14, 46, 31, 12, 3, 9, 34, 14, 53, 3, 25, 8, 14, 4, 39, 3, 14, 19, 29, 11, 20, 5, 52, 20, 11, 9, 24, 27, 23, 11, 38, 13, 21, 1, 18, 14, 42, 31, 34, 9, 10, 45, 10, 20, 38, 29, 19, 25, 26, 5, 14, 43, 27, 36, 36, 19, 9, 28, 4, 6, 33, 2, 4, 25, 19, 46, 12, 11, 51, 58, 22, 46, 31, 24, 8, 55, 28, 26, 42, 25, 14, 60, 39, 8, 55, 53, 25, 21, 14, 15, 58, 39, 8, 38, 40, 33, 27, 48, 19, 19, 31, 11, 14, 37, 3, 13, 5, 26, 20, 14, 26, 5, 22, 5, 47, 21, 27, 47, 19, 16, 46, 14, 49, 39, 1, 46, 39, 9, 29, 3, 55, 20, 39, 20, 39, 16, 13, 28, 21, 42, 17, 6, 13, 32, 27, 20, 39, 34, 39, 21, 40, 60, 59, 8, 27, 34, 21, 25, 38, 35, 24, 39, 48, 3, 58, 27, 14, 27, 27, 24, 32, 10, 20, 42, 8, 27, 11, 9, 39, 13, 37, 21, 11, 10, 10, 30, 24, 52, 8, 14, 39, 11, 19, 3, 14, 34, 58, 9, 14, 10, 13, 8, 59, 6, 40, 22, 11, 6, 39, 60, 26, 7, 6, 9, 20, 3, 39, 14, 48, 43, 8, 54, 14, 56, 49, 19, 18, 48, 38, 27, 7, 42, 20, 29, 25, 2, 36, 4, 3, 44, 58, 47, 9, 27, 39, 43, 4, 39, 39, 14, 50, 27, 19, 7, 3, 13, 8, 24, 21, 31, 29, 1, 3, 2, 12, 46, 11, 31, 8, 51, 25, 7, 39, 22, 2, 11, 5, 11, 3, 25, 21, 3, 4, 19, 21, 60, 10, 20, 39, 20, 36, 20, 24, 25, 19, 20, 28, 39, 27, 47, 11, 28, 28, 27, 19, 42, 16, 44, 21, 11, 16, 46, 1, 8, 32, 41, 49, 39, 42, 29, 8, 38, 25, 36, 3, 31, 43, 20, 10, 6, 60, 21, 19, 32, 27, 2, 34, 55, 14, 14, 11, 7, 27, 9, 14, 35, 14, 14, 25, 60, 7, 25, 7, 31, 8, 47, 4, 27, 4, 3, 40, 19, 10, 2, 3, 16, 8, 18, 20, 46, 11, 29, 3, 37, 6, 19, 8, 26, 41, 59, 16, 27, 30, 44, 1, 21, 2, 53, 18, 39, 53, 7, 11, 59, 33, 3, 14, 11, 6, 11, 54, 16, 33, 21, 13, 10, 5, 55, 19, 5, 14, 56, 20, 31, 11, 3, 29, 44, 11, 60, 19, 20, 14, 11, 8, 12, 29, 60, 27, 21, 43, 27, 14, 38, 14, 54, 34, 13, 51, 19, 27, 48, 6, 4, 21, 36, 4, 53, 13, 17, 19, 14, 29, 58, 11, 43, 46, 26, 3, 6, 2, 40, 58, 37, 3, 27, 14, 38, 47, 36, 8, 24, 14, 40, 3, 3, 6, 1, 59, 6, 8, 60, 6, 20, 31, 19, 14, 37, 53, 20, 19, 37, 42, 32, 8, 28, 48, 60, 34, 48, 20, 24, 32, 10, 22, 8, 17, 11, 20, 39, 49, 24, 54, 53, 49, 34, 16, 10, 31, 7, 13, 35, 16, 22, 3, 26, 3, 59, 20, 26, 55, 29, 6, 17, 10, 49, 48, 8, 15, 17, 8, 36, 27, 39, 34, 49, 11, 59, 58, 9, 1, 53, 31, 59, 21, 3, 47, 31, 34, 24, 17, 14, 51, 1, 4, 19, 10, 35, 39, 4, 12, 32, 46, 11, 51, 55, 10, 47, 7, 22, 26, 27, 11, 29, 10, 31, 22, 3, 13, 7, 60, 59, 22, 38, 58, 19, 14, 10, 5, 31, 6, 20, 56, 38, 49, 11, 53, 11, 35, 10, 25, 52, 5, 27, 9, 38, 14, 51, 17, 8, 9, 27, 6, 49, 20, 49, 25, 57, 33, 42, 2, 60, 16, 24, 52, 57, 42, 17, 46, 39, 38, 39, 11, 18, 21, 55, 39, 34, 4, 34, 20, 24, 14, 46, 31, 39, 12, 37, 46, 20, 11, 3, 11, 15, 24, 42, 54, 47, 4, 11, 9, 60, 12, 43, 37, 27, 5, 10, 46, 19, 2, 39, 11, 41, 20, 39, 3, 6, 35, 58, 31, 31, 39, 2, 58, 23, 19, 21, 11, 9, 7, 21, 20, 19, 59, 30, 46, 51, 20, 15, 42, 15, 48, 5, 51, 1, 16, 30, 32, 26, 8, 51, 12, 44, 1, 24, 14, 19, 20, 11, 31, 1, 60, 38, 24, 18, 39, 43, 29, 22, 25, 29, 31, 31, 16, 33, 6, 11, 55, 49, 21, 17, 54, 2, 40, 13, 58, 37, 40, 24, 39, 60, 20, 39, 26, 21, 8, 19, 60, 60, 39, 38, 25, 14, 4, 29, 7, 49, 28, 20, 25, 31, 19, 14, 40, 9, 55, 14, 14, 40, 31, 59, 7, 27, 38, 40, 28, 11, 27, 4, 10, 23, 13, 14, 3, 51, 31, 59, 1, 21, 45, 9, 7, 3, 14, 40, 58, 52, 53, 53, 21, 45, 50, 20, 1, 44, 21, 31, 46, 4, 46, 8, 14, 19, 9, 10, 6, 22, 38, 3, 22, 47, 14, 11, 11, 18, 9, 55, 24, 41, 19, 3, 48, 24, 34, 10, 46, 42, 34, 16, 41, 39, 60, 8, 48, 47, 19, 38, 20, 50, 20, 8, 45, 16, 26, 9, 47, 23, 4, 14, 20, 54, 24, 29, 28, 11, 19, 2, 54, 48, 3, 43, 51, 10, 33, 21, 48, 50, 14, 20, 24, 9, 10, 16, 59, 14, 25, 3, 55, 19, 20, 3, 51, 49, 18, 14, 6, 48, 42, 42, 3, 37, 43, 8, 2, 8, 10, 11, 39, 20, 59, 12, 10, 59, 20, 10, 20, 6, 54, 8, 27, 27, 31, 39, 16, 20, 2, 28, 29, 16, 8, 46, 52, 40, 8, 20, 22, 27, 6, 22, 32, 28, 9, 59, 28, 16, 17, 10, 29, 19, 7, 58, 4, 14, 49, 60, 5, 16, 21, 35, 42, 57, 2, 11, 60, 22, 46, 14, 27, 7, 6, 26, 31, 9, 20, 48, 43, 17, 40, 12, 29, 17, 22, 19, 3, 7, 11, 29, 7, 13, 39, 3, 5, 19, 40, 20, 20, 50, 33, 38, 52, 11, 40, 55, 27, 56, 12, 36, 29, 32, 53, 3, 54, 5, 3, 39, 5, 59, 13, 19, 20, 44, 4, 3, 22, 55, 13, 15, 9, 39, 50, 40, 31, 25, 19, 12, 6, 14, 1, 14, 23, 19, 38, 20, 60, 11, 55, 8, 46, 6, 29, 21, 19, 19, 38, 46, 52, 4, 10, 2, 11, 19, 23, 47, 19, 20, 11, 43, 2, 5, 44, 28, 27, 39, 47, 11, 52, 59, 53, 41, 46, 27, 7, 19, 27, 24, 15, 19, 35, 21, 22, 38, 27, 31, 27, 22, 14, 3, 29, 58, 11, 59, 14, 28, 27, 12, 3, 38, 58, 47, 3, 46, 14, 34, 38, 20, 38, 36, 58, 7, 16, 54, 51, 6, 54, 28, 44, 56, 39, 16, 28, 21, 28, 39, 27, 21, 60, 58, 14, 31, 42, 29, 14, 46, 12, 37, 11, 44, 14, 38, 51, 27, 5, 59, 38, 29, 14, 60, 3, 9, 60, 58, 14, 53, 37, 3, 7, 10, 11, 56, 44, 47, 54, 43, 43, 28, 20, 39, 6, 31, 34, 21, 39, 48, 25, 34, 35, 18, 39, 19, 7, 59, 9, 29, 6, 7, 38, 46, 2, 19, 17, 3, 39, 25, 26, 31, 10, 29, 13, 10, 3, 11, 20, 39, 51, 13, 55, 47, 59, 22, 59, 20, 38, 46, 21, 17, 60, 48, 24, 39, 37, 4, 11, 4, 29, 37, 34, 22, 22, 27, 2, 19, 27, 39, 8, 47, 18, 14, 58, 10, 7, 35, 42, 11, 16, 55, 37, 11, 19, 5, 29, 6, 40, 26, 59, 34, 42, 19, 39, 36, 25, 45, 54, 2, 45, 39, 10, 10, 20, 39, 55, 52, 11, 11, 14, 4, 28, 7, 32, 1, 12, 59, 11, 13, 55, 21, 9, 8, 39, 1, 52, 43, 24, 49, 8, 46, 6, 3, 3, 32, 59, 60, 20, 48, 39, 54, 54, 3, 21, 2, 48, 34, 3, 46, 52, 8, 9, 9, 56, 25, 9, 41, 38, 46, 57, 20, 53, 11, 11, 13, 24, 14, 28, 25, 20, 53, 18, 2, 39, 5, 28, 48, 11, 48, 59, 39, 45, 40, 37, 42, 39, 19, 34, 39, 34, 9, 24, 22, 6, 3, 22, 43, 2, 7, 58, 29, 39, 13, 17, 2, 27, 29, 9, 39, 4, 14, 11, 8, 19, 13, 6, 21, 19, 38, 4, 51, 47, 32, 6, 40, 19, 31, 39, 2, 14, 55, 7, 3, 14, 37, 10, 3, 8, 1, 14, 21, 53, 20, 5, 39, 54, 40, 60, 29, 29, 52, 14, 11, 31, 34, 32, 20, 40, 25, 20, 20, 47, 9, 12, 55, 31, 4, 39, 5, 34, 3, 13, 38, 24, 49, 8, 24, 6, 19, 28, 27, 47, 13, 2, 4, 6, 6, 43, 48, 2, 43, 31, 20, 46, 29, 29, 9, 25, 10, 12, 11, 19, 35, 31, 11, 29, 39, 14, 3, 31, 26, 2, 60, 45, 51, 7, 13, 53, 29, 34, 29, 43, 11, 11, 51, 4, 10, 12, 46, 2, 40, 20, 20, 22, 33, 42, 34, 10, 6, 49, 59, 26, 43, 24, 48, 16, 4, 22, 36, 28, 10, 54, 7, 14, 3, 29, 5, 2, 20, 28, 9, 9, 28, 46, 23, 53, 48, 6, 9, 60, 37, 29, 4, 58, 14, 46, 39, 50, 33, 60, 38, 6, 33, 40, 24, 27, 25, 11, 8, 37, 28, 47, 39, 60, 19, 26, 59, 3, 53, 8, 2, 59, 39, 48, 27, 58, 47, 21, 39, 20, 32, 34, 55, 3, 3, 59, 56, 2, 39, 60, 8, 3, 18, 8, 6, 10, 8, 56, 19, 11, 3, 27, 14, 11, 31, 40, 11, 21, 8, 25, 11, 34, 14, 11, 14, 28, 20, 46, 27, 47, 34, 3, 10, 11, 6, 27, 53, 11, 42, 43, 13, 34, 32, 39, 38, 11, 59, 60, 23, 3, 10, 59, 41, 54, 4, 50, 11, 25, 39, 37, 29, 50, 29, 10, 14, 29, 15, 21, 58, 50, 7, 3, 57, 54, 25, 39, 48, 58, 29, 49, 8, 54, 24, 14, 23, 59, 6, 11, 43, 29, 54, 24, 16, 13, 16, 3, 57, 5, 20, 59, 31, 46, 46, 39, 27, 8, 26, 50, 58, 4, 49, 16, 4, 20, 6, 50, 20, 28, 36, 54, 42, 6, 10, 21, 1, 8, 48, 20, 2, 60, 5, 21, 13, 54, 50, 31, 22, 24, 14, 14, 9, 31, 29, 20, 58, 40, 14, 15, 10, 15, 39, 43, 3, 2, 24, 48, 14, 9, 21, 14, 53, 40, 55, 38, 53, 36, 13, 19, 28, 59, 10, 41, 14, 12, 55, 43, 9, 27, 38, 21, 16, 39, 53, 31, 39, 19, 49, 13, 31, 39, 20, 14, 25, 8, 43, 13, 60, 13, 52, 25, 3, 33, 6, 20, 19, 8, 27, 10, 21, 38, 3, 31, 21, 38, 11, 31, 39, 7, 58, 39, 18, 39, 19, 3, 39, 59, 11, 10, 3, 47, 51, 20, 53, 40, 4, 10, 6, 11, 47, 19, 22, 18, 49, 40, 27, 46, 27, 49, 20, 33, 21, 59, 9, 58, 6, 28, 42, 14, 14, 1, 6, 39, 58, 60, 27, 53, 31, 29, 16, 31, 55, 27, 39, 32, 32, 21, 60, 59, 43, 24, 11, 6, 24, 39, 28, 32, 25, 19, 5, 28, 38, 58, 44, 59, 5, 24, 4, 10, 14, 46, 38, 39, 6, 8, 22, 2, 2, 51, 52, 22, 58, 19, 12, 10, 59, 3, 8, 42, 39, 38, 46, 3, 43, 32, 11, 58, 60, 1, 39, 15, 39, 24, 58, 24, 29, 27, 39, 40, 13, 34, 21, 14, 39, 3, 21, 59, 11, 38, 39, 47, 58, 17, 26, 38, 29, 27, 24, 46, 10, 10, 16, 48, 32, 20, 38, 24, 25, 51, 13, 18, 19, 33, 3, 19, 11, 25, 24, 30, 21, 25, 24, 21, 11, 28, 31, 39, 3, 19, 32, 42, 37, 31, 46, 9, 25, 55, 13, 50, 6, 5, 24, 60, 7, 20, 10, 10, 59, 38, 42, 26, 60, 46, 8, 27, 11, 13, 22, 29, 20, 31, 10, 11, 40, 4, 7, 10, 3, 16, 26, 12, 34, 32, 11, 22, 55, 19, 25, 21, 11, 56, 42, 51, 46, 2, 39, 28, 55, 5, 13, 25, 34, 10, 4, 20, 22, 13, 20, 25, 3, 39, 27, 9, 21, 2, 39, 28, 60, 14, 19, 47, 24, 7, 2, 24, 42, 13, 39, 38, 27, 27, 19, 57, 17, 4, 16, 14, 27, 11, 33, 19, 47, 48, 12, 48, 34, 34, 20, 24, 47, 7, 21, 25, 34, 21, 18, 16, 14, 2, 35, 27, 11, 20, 24, 31, 47, 50, 60, 11, 22, 20, 17, 34, 29, 26, 10, 10, 7, 7, 11, 16, 39, 39, 19, 26, 9, 26, 6, 19, 14, 5, 60, 5, 58, 56, 37, 38, 8, 47, 20, 19, 11, 13, 1, 6, 7, 10, 54, 57, 5, 19, 60, 27, 19, 14, 42, 39, 14, 14, 20, 60, 48, 9, 35, 15, 25, 53, 53, 9, 22, 17, 52, 11, 20, 16, 3, 22, 46, 14, 18, 6, 27, 27, 14, 33, 6, 28, 60, 30, 39, 47, 14, 53, 10, 7, 35, 27, 20, 3, 8, 49, 7, 49, 21, 59, 9, 59, 32, 31, 46, 2, 55, 29, 7, 14, 29, 29, 10, 21, 20, 38, 2, 59, 6, 3, 39, 9, 38, 9, 19, 29, 37, 30, 5, 3, 21, 55, 9, 46, 46, 37, 14, 4, 46, 29, 20, 34, 28, 37, 47, 39, 17, 32, 33, 43, 39, 18, 9, 39, 18, 11, 20, 11, 10, 32, 34, 10, 25, 19, 10, 14, 42, 40, 2, 42, 46, 22, 29, 6, 8, 31, 31, 24, 19, 49, 1, 3, 3, 28, 8, 3, 4, 38, 24, 7, 34, 9, 8, 58, 14, 18, 51, 19, 38, 15, 38, 6, 6, 4, 2, 19, 29, 11, 39, 14, 48, 24, 34, 16, 4, 34, 10, 28, 46, 20, 43, 8, 14, 18, 27, 59, 52, 2, 9, 22, 3, 26, 20, 7, 3, 26, 59, 56, 21, 37, 27, 47, 54, 42, 42, 14, 44, 11, 46, 21, 47, 27, 26, 10, 21, 3, 39, 39, 32, 34, 4, 11, 18, 21, 58, 21, 1, 17, 14, 9, 39, 31, 11, 21, 24, 37, 34, 27, 15, 8, 9, 27, 31, 48, 56, 43, 5, 46, 10, 36, 41, 16, 36, 56, 33, 20, 39, 38, 20, 58, 59, 58, 59, 9, 29, 49, 20, 38, 7, 39, 44, 8, 44, 8, 20, 39, 14, 20, 42, 60, 60, 1, 29, 11, 31, 33, 11, 9, 59, 42, 31, 5, 10, 8, 46, 55, 18, 39, 19, 39, 3, 25, 7, 46, 32, 48, 5, 24, 25, 47, 3, 39, 6, 39, 56, 10, 24, 5, 16, 27, 53, 38, 13, 60, 3, 27, 34, 46, 46, 47, 27, 25, 38, 20, 19, 59, 3, 24, 20, 59, 18, 14, 40, 8, 53, 14, 40, 39, 29, 59, 24, 20, 47, 39, 39, 7, 9, 9, 9, 48, 7, 10, 42, 9, 10, 20, 39, 54, 20, 55, 27, 42, 21, 58, 47, 11, 27, 39, 8, 30, 28, 20, 24, 60, 3, 59, 39, 37, 42, 17, 46, 56, 49, 8, 2, 54, 48, 38, 38, 39, 22, 5, 41, 19, 39, 11, 24, 24, 11, 39, 60, 5, 27, 20, 8, 40, 10, 4, 40, 24, 7, 14, 16, 9, 32, 39, 42, 31, 14, 22, 28, 3, 8, 5, 14, 22, 18, 20, 11, 42, 53, 11, 20, 42, 28, 18, 37, 15, 6, 10, 18, 28, 39, 25, 4, 56, 19, 46, 27, 13, 25, 54, 4, 39, 20, 9, 9, 60, 22, 14, 24, 21, 46, 21, 55, 25, 35, 1, 43, 22, 2, 10, 20, 31, 7, 45, 9, 38, 24, 35, 25, 47, 6, 7, 39, 20, 3, 7, 33, 53, 11, 20, 20, 58, 60, 40, 27, 42, 25, 59, 19, 9, 31, 21, 30, 5, 29, 9, 29, 27, 29, 42, 38, 17, 27, 60, 10, 45, 42, 42, 39, 14, 38, 42, 39, 19, 38, 27, 38, 9, 12, 6, 48, 20, 26, 11, 14, 9, 34, 53, 10, 8, 27, 34, 48, 3, 4, 23, 19, 4, 27, 3, 13, 38, 28, 32, 19, 27, 3, 25, 8, 20, 11, 19, 1, 6, 42, 29, 9, 18, 2, 27, 3, 2, 24, 10, 27, 2, 34, 42, 28, 50, 48, 8, 9, 14, 29, 38, 51, 60, 3, 47, 31, 11, 27, 3, 9, 52, 19, 7, 42, 48, 11, 6, 45, 21, 34, 59, 59, 13, 43, 31, 22, 29, 21, 38, 28, 19, 11, 28, 19, 7, 17, 42, 14, 45, 54, 59, 31, 42, 41, 5, 14, 25, 6, 21, 15, 20, 2, 7, 39, 2, 24, 28, 22, 7, 39, 45, 4, 46, 26, 22, 2, 10, 11, 59, 7, 7, 29, 19, 56, 19, 6, 20, 5, 11, 3, 3, 16, 3, 50, 7, 10, 29, 27, 55, 29, 5, 46, 20, 59, 6, 38, 12, 25, 20, 46, 42, 32, 19, 19, 34, 20, 40, 27, 29, 27, 39, 3, 54, 20, 32, 18, 6, 21, 2, 47, 29, 38, 12, 3, 37, 45, 42, 38, 14, 9, 49, 17, 8, 60, 30, 6, 39, 6, 10, 21, 10, 22, 20, 24, 9, 43, 32, 46, 39, 14, 24, 14, 29, 50, 24, 36, 47, 39, 6, 27, 31, 39, 55, 20, 19, 10, 12, 5, 60, 29, 29, 18, 21, 3, 14, 10, 17, 11, 3, 2, 59, 3, 12, 41, 40, 9, 5, 37, 9, 3, 27, 19, 32, 10, 9, 2, 9, 35, 28, 24, 27, 28, 4, 53, 11, 29, 14, 28, 27, 11, 13, 18, 39, 7, 14, 58, 28, 45, 16, 54, 21, 14, 11, 39, 53, 39, 9, 11, 21, 58, 55, 13, 3, 31, 4, 10, 27, 14, 31, 33, 59, 31, 31, 10, 20, 14, 38, 12, 1, 10, 21, 5, 1, 56, 19, 31, 9, 21, 4, 35, 21, 27, 40, 58, 19, 6, 38, 22, 38, 44, 29, 39, 56, 42, 23, 46, 8, 29, 46, 33, 39, 24, 20, 14, 5, 11, 6, 24, 40, 29, 4, 8, 42, 13, 13, 8, 29, 43, 45, 3, 60, 10, 3, 51, 28, 22, 31, 60, 34, 55, 15, 48, 8, 13, 14, 29, 25, 16, 18, 9, 28, 56, 23, 39, 14, 38, 21, 34, 59, 46, 39, 18, 39, 2, 34, 58, 36, 3, 19, 19, 14, 37, 54, 20, 18, 13, 60, 39, 54, 3, 39, 8, 60, 39, 58, 3, 26, 11, 9, 14, 33, 33, 26, 47, 60, 27, 20, 4, 27, 41, 2, 46, 20, 59, 59, 46, 59, 14, 2, 51, 9, 13, 3, 2, 52, 28, 5, 14, 25, 46, 31, 22, 39, 19, 22, 12, 58, 37, 20, 31, 21, 42, 12, 37, 57, 22, 4, 25, 39, 7, 14, 8, 21, 38, 36, 39, 32, 57, 8, 54, 19, 34, 17, 47, 21, 37, 1, 55, 6, 14, 38, 1, 19, 27, 11, 14, 13, 59, 57, 27, 27, 6, 29, 59, 22, 18, 8, 23, 46, 42, 19, 56, 13, 3, 39, 28, 14, 36, 51, 14, 11, 19, 26, 48, 32, 43, 32, 19, 14, 28, 39, 4, 14, 40, 13, 49, 14, 6, 20, 5, 22, 37, 19, 43, 1, 10, 16, 16, 9, 29, 25, 47, 21, 1, 14, 14, 11, 11, 19, 3, 26, 30, 53, 26, 7, 17, 22, 2, 20, 8, 56, 11, 60, 12, 51, 60, 53, 19, 33, 10, 15, 51, 53, 11, 43, 8, 31, 28, 56, 11, 41, 42, 29, 32, 14, 21, 9, 39, 13, 7, 8, 3, 39, 28, 34, 1, 29, 11, 11, 44, 6, 29, 37, 51, 10, 46, 27, 7, 54, 54, 21, 32, 21, 27, 39, 19, 3, 42, 34, 55, 11, 34, 3, 39, 3, 25, 16, 57, 10, 18, 42, 2, 42, 46, 38, 17, 47, 29, 8, 38, 11, 37, 42, 5, 13, 13, 19, 35, 43, 5, 10, 34, 29, 26, 16, 8, 40, 34, 60, 3, 14, 59, 59, 31, 29, 19, 38, 22, 60, 11, 11, 32, 36, 35, 26, 28, 5, 28, 3, 55, 8, 10, 47, 24, 10, 39, 14, 13, 57, 11, 9, 14, 9, 58, 38, 5, 39, 40, 7, 1, 37, 9, 3, 10, 39, 27, 25, 11, 29, 37, 6, 29, 29, 9, 31, 14, 39, 20, 31, 9, 35, 36, 28, 4, 28, 48, 49, 60, 19, 59, 13, 33, 6, 21, 26, 59, 46, 6, 59, 6, 6, 36, 38, 31, 54, 21, 33, 4, 39, 20, 20, 27, 27, 54, 12, 39, 34, 39, 35, 29, 1, 18, 31, 12, 7, 53, 27, 1, 6, 47, 22, 39, 2, 12, 53, 10, 27, 44, 14, 32, 57, 37, 8, 5, 20, 10, 21, 38, 17, 52, 28, 10, 14, 3, 16, 7, 20, 19, 46, 36, 58, 33, 7, 27, 44, 34, 11, 12, 29, 53, 7, 13, 26, 22, 23, 42, 39, 16, 40, 46, 27, 5, 39, 8, 10, 39, 10, 18, 28, 7, 11, 60, 7, 56, 17, 21, 52, 27, 20, 31, 29, 14, 23, 49, 10, 7, 58, 15, 44, 48, 5, 27, 39, 31, 10, 14, 3, 29, 12, 13, 11, 21, 4, 55, 35, 36, 19, 2, 9, 46, 21, 38, 39, 25, 19, 10, 48, 42, 39, 24, 31, 39, 39, 18, 11, 27, 39, 49, 11, 2, 31, 29, 2, 3, 53, 5, 2, 14, 55, 19, 44, 19, 42, 2, 34, 18, 16, 25, 50, 21, 36, 55, 43, 3, 34, 59, 39, 12, 7, 6, 39, 27, 10, 25, 12, 2, 39, 14, 29, 39, 9, 21, 4, 38, 10, 9, 39, 9, 51, 32, 28, 39, 25, 9, 47, 10, 28, 22, 2, 59, 59, 30, 18, 17, 9, 60, 29, 48, 34, 53, 28, 14, 59, 55, 3, 32, 60, 56, 40, 33, 13, 26, 39, 22, 32, 39, 14, 6, 24, 39, 3, 44, 20, 14, 36, 14, 53, 14, 34, 9, 39, 2, 29, 54, 17, 47, 13, 37, 10, 11, 28, 39, 11, 21, 36, 11, 34, 7, 31, 9, 14, 14, 14, 36, 5, 40, 38, 59, 20, 49, 13, 39, 28, 51, 8, 11, 39, 1, 37, 9, 22, 3, 60, 10, 59, 29, 8, 58, 20, 14, 10, 8, 48, 35, 59, 48, 38, 9, 51, 14, 3, 43, 22, 20, 48, 29, 37, 4, 43, 20, 10, 20, 19, 24, 39, 10, 21, 9, 8, 46, 25, 14, 4, 31, 13, 8, 10, 8, 49, 60, 12, 39, 9, 48, 14, 21, 39, 25, 14, 38, 22, 60, 27, 10, 39, 41, 20, 53, 25, 14, 25, 11, 53, 18, 14, 5, 34, 12, 4, 43, 47, 2, 9, 14, 31, 51, 26, 24, 14, 39, 20, 58, 11, 24, 38, 44, 14, 25, 29, 27, 24, 20, 7, 3, 54, 14, 20, 35, 7, 29, 21, 52, 3, 45, 39, 13, 52, 39, 3, 59, 1, 58, 1, 38, 20, 22, 19, 11, 2, 13, 60, 10, 42, 14, 14, 39, 21, 31, 42, 14, 40, 18, 21, 39, 54, 19, 39, 42, 5, 11, 10, 21, 48, 14, 20, 6, 18, 28, 32, 51, 7, 43, 46, 39, 11, 59, 42, 20, 39, 6, 14, 14, 18, 8, 43, 40, 11, 3, 13, 38, 11, 39, 49, 20, 29, 27, 1, 16, 40, 5, 35, 14, 22, 40, 28, 56, 42, 14, 51, 56, 12, 2, 60, 3, 9, 27, 31, 42, 37, 54, 45, 13, 46, 39, 8, 39, 29, 21, 43, 20, 27, 5, 24, 6, 51, 46, 6, 22, 50, 37, 29, 11, 58, 10, 5, 30, 2, 25, 53, 31, 12, 59, 43, 27, 19, 2, 13, 32, 58, 21, 51, 9, 34, 12, 11, 17, 42, 19, 6, 42, 14, 11, 46, 14, 19, 16, 49, 14, 19, 24, 30, 3, 19, 59, 20, 8, 38, 20, 46, 29, 27, 27, 39, 27, 7, 8, 46, 33, 3, 1, 42, 3, 51, 5, 9, 39, 11, 30, 29, 32, 21, 17, 21, 11, 13, 42, 6, 51, 42, 27, 10, 6, 9, 12, 1, 10, 13, 55, 10, 37, 43, 12, 28, 40, 13, 44, 20, 59, 28, 27, 21, 51, 56, 16, 3, 4, 50, 47, 8, 24, 14, 3, 20, 27, 26, 31, 31, 27, 42, 20, 5, 9, 39, 31, 14, 4, 29, 6, 14, 29, 22, 42, 29, 10, 12, 11, 17, 19, 39, 7, 40, 6, 1, 6, 21, 32, 34, 12, 29, 37, 10, 21, 26, 8, 7, 3, 38, 1, 47, 54, 2, 3, 8, 27, 8, 54, 3, 22, 2, 47, 21, 19, 17, 29, 21, 50, 24, 22, 42, 16, 11, 9, 7, 22, 23, 20, 20, 24, 36, 27, 55, 20, 5, 27, 6, 53, 6, 21, 53, 22, 13, 3, 8, 39, 59, 31, 34, 28, 58, 9, 3, 14, 2, 16, 40, 39, 11, 22, 55, 39, 3, 24, 48, 9, 8, 51, 43, 20, 43, 10, 59, 38, 21, 20, 28, 24, 35, 31, 39, 19, 11, 29, 21, 49, 34, 28, 10, 20, 21, 21, 17, 25, 58, 10, 17, 48, 16, 46, 6, 34, 6, 34, 34, 20, 9, 11, 14, 38, 36, 38, 14, 16, 31, 38, 24, 46, 12, 2, 39, 30, 58, 46, 1, 19, 40, 20, 21, 22, 13, 15, 25, 17, 32, 17, 9, 17, 23, 20, 19, 19, 19, 58, 28, 28, 39, 38, 11, 9, 14, 24, 6, 59, 14, 29, 6, 9, 27, 3, 8, 59, 59, 6, 20, 1, 31, 28, 42, 42, 2, 3, 3, 8, 20, 14, 27, 33, 12, 49, 46, 12, 39, 11, 19, 32, 4, 27, 55, 14, 40, 32, 60, 28, 27, 29, 47, 25, 35, 3, 29, 19, 56, 24, 29, 12, 7, 11, 6, 37, 34, 14, 6, 19, 31, 46, 29, 29, 20, 59, 45, 26, 16, 27, 6, 38, 39, 12, 39, 22, 22, 29, 58, 3, 25, 38, 56, 3, 14, 36, 58, 8, 29, 23, 3, 11, 28, 19, 34, 25, 58, 25, 14, 29, 38, 44, 16, 12, 2, 10, 19, 48, 36, 10, 47, 28, 17, 19, 14, 14, 28, 52, 38, 14, 59, 16, 54, 5, 22, 6, 39, 31, 29, 5, 59, 48, 39, 11, 18, 33, 29, 10, 53, 38, 4, 11, 19, 20, 47, 27, 5, 39, 56, 33, 7, 20, 32, 2, 11, 34, 59, 27, 10, 31, 59, 48, 59, 34, 6, 27, 13, 3, 55, 55, 33, 39, 59, 53, 10, 9, 50, 48, 43, 40, 4, 3, 31, 49, 45, 56, 38, 9, 28, 40, 47, 49, 56, 44, 20, 48, 59, 11, 11, 11, 9, 4, 33, 17, 8, 14, 11, 8, 26, 21, 38, 11, 27, 29, 25, 8, 21, 23, 34, 39, 54, 22, 14, 14, 60, 6, 25, 8, 1, 3, 8, 39, 39, 16, 29, 27, 32, 15, 59, 35, 52, 46, 27, 31, 20, 46, 21, 29, 24, 25, 27, 34, 25, 47, 10, 12, 34, 39, 48, 37, 6, 25, 20, 38, 40, 27, 29, 49, 6, 14, 33, 38, 43, 29, 39, 10, 25, 19, 21, 33, 28, 10, 47, 39, 45, 51, 46, 59, 1, 19, 7, 34, 48, 34, 47, 21, 27, 45, 14, 38, 20, 18, 54, 29, 29, 39, 38, 31, 32, 35, 20, 14, 5, 2, 21, 24, 24, 27, 21, 20, 31, 28, 49, 13, 20, 8, 16, 60, 19, 51, 46, 39, 38, 25, 12, 39, 7, 27, 42, 2, 13, 38, 56, 31, 38, 6, 7, 38, 6, 43, 54, 25, 33, 31, 42, 27, 59, 53, 9, 10, 5, 9, 31, 10, 41, 38, 14, 24, 14, 15, 19, 33, 28, 25, 36, 28, 3, 29, 60, 40, 19, 3, 14, 55, 4, 16, 56, 34, 50, 11, 27, 1, 36, 36, 38, 12, 42, 37, 43, 3, 6, 5, 39, 46, 20, 38, 46, 21, 36, 4, 43, 3, 4, 11, 7, 27, 33, 22, 3, 1, 13, 11, 27, 16, 46, 45, 31, 16, 38, 28, 10, 24, 14, 12, 1, 13, 22, 55, 18, 10, 4, 9, 29, 34, 41, 46, 10, 54, 27, 2, 7, 8, 21, 25, 3, 44, 31, 39, 13, 11, 48, 3, 19, 11, 46, 6, 26, 39, 31, 1, 28, 10, 59, 6, 3, 27, 20, 39, 59, 38, 25, 28, 31, 22, 21, 58, 57, 31, 13, 31, 29, 4, 53, 18, 11, 24, 20, 38, 38, 39, 10, 48, 36, 30, 59, 21, 28, 42, 32, 47, 43, 2, 50, 10, 48, 11, 7, 48, 46, 2, 59, 40, 29, 27, 7, 58, 6, 46, 37, 1, 14, 17, 56, 31, 45, 21, 22, 11, 58, 20, 46, 39, 3, 4, 11, 11, 36, 31, 9, 51, 31, 24, 4, 58, 59, 1, 6, 39, 19, 15, 28, 44, 33, 3, 31, 29, 25, 11, 60, 24, 45, 14, 34, 19, 25, 14, 20, 34, 29, 14, 19, 14, 36, 49, 26, 37, 2, 9, 43, 9, 20, 56, 19, 59, 58, 20, 13, 43, 1, 38, 36, 28, 53, 27, 47, 27, 34, 49, 13, 13, 22, 39, 13, 19, 11, 31, 39, 34, 58, 6, 43, 14, 34, 19, 42, 9, 40, 53, 4, 16, 22, 20, 40, 15, 30, 39, 17, 6, 7, 42, 54, 29, 40, 4, 28, 6, 48, 40, 22, 4, 14, 20, 4, 22, 9, 60, 2, 56, 39, 2, 19, 19, 59, 7, 46, 29, 13, 29, 14, 42, 53, 48, 39, 45, 39, 53, 60, 31, 24, 26, 4, 48, 37, 46, 43, 24, 20, 11, 14, 40, 55, 42, 29, 8, 47, 26, 26, 17, 2, 29, 25, 39, 7, 50, 17, 57, 48, 2, 53, 40, 21, 55, 20, 53, 38, 49, 18, 6, 4, 11, 43, 16, 20, 3, 13, 37, 59, 19, 11, 14, 11, 11, 40, 39, 20, 60, 24, 12, 32, 59, 40, 46, 21, 2, 51, 16, 14, 14, 14, 9, 48, 20, 22, 32, 3, 40, 31, 59, 55, 11, 11, 9, 18, 12, 25, 42, 20, 35, 19, 60, 3, 12, 28, 41, 59, 10, 6, 30, 20, 32, 39, 14, 7, 20, 27, 11, 18, 27, 12, 39, 3, 17, 46, 37, 10, 22, 35, 35, 11, 8, 3, 20, 28, 37, 10, 43, 28, 25, 26, 37, 58, 22, 54, 45, 16, 39, 9, 48, 30, 9, 31, 29, 42, 39, 14, 17, 28, 46, 56, 23, 18, 19, 19, 59, 56, 7, 24, 2, 16, 20, 21, 2, 28, 13, 19, 8, 27, 36, 38, 34, 27, 41, 59, 9, 20, 14, 51, 3, 10, 21, 39, 7, 25, 43, 28, 2, 46, 39, 43, 25, 39, 10, 14, 16, 6, 20, 7, 46, 6, 27, 32, 48, 5, 39, 10, 24, 3, 29, 21, 34, 25, 3, 6, 29, 60, 12, 13, 38, 27, 27, 60, 52, 6, 35, 39, 16, 24, 28, 19, 14, 10, 31, 34, 27, 6, 11, 39, 6, 9, 10, 46, 27, 51, 10, 31, 13, 16, 8, 14, 39, 6, 7, 56, 27, 39, 39, 31, 25, 11, 29, 9, 47, 14, 39, 9, 11, 19, 6, 25, 57, 6, 18, 29, 58, 5, 32, 18, 22, 40, 22, 4, 12, 11, 34, 32, 11, 6, 44, 53, 11, 39, 8, 29, 39, 38, 48, 33, 19, 27, 44, 28, 4, 8, 14, 17, 28, 17, 37, 7, 31, 14, 25, 58, 13, 11, 3, 14, 55, 25, 8, 20, 28, 51, 6, 48, 58, 55, 22, 19, 10, 1, 10, 6, 3, 22, 42, 42, 13, 31, 37, 21, 11, 13, 17, 25, 3, 58, 24, 26, 6, 60, 28, 54, 16, 9, 9, 53, 11, 7, 6, 20, 39, 10, 2, 37, 21, 3, 14, 9, 24, 4, 4, 21, 46, 3, 14, 9, 9, 46, 10, 34, 58, 25, 25, 38, 7, 31, 14, 22, 7, 25, 9, 57, 10, 23, 27, 31, 33, 27, 5, 13, 58, 43, 39, 31, 9, 13, 39, 14, 34, 37, 53, 12, 10, 50, 8, 6, 55, 27, 12, 43, 11, 55, 11, 7, 7, 27, 12, 33, 20, 14, 14, 28, 53, 9, 28, 32, 24, 14, 38, 14, 6, 10]\n"
          ],
          "name": "stdout"
        }
      ]
    },
    {
      "metadata": {
        "id": "gjUFMEQzGK-8",
        "colab_type": "code",
        "colab": {}
      },
      "cell_type": "code",
      "source": [
        "set(dictlist)\n",
        "\n",
        "#results are written to .dat file\n",
        "with open('result13.dat', 'w') as f:\n",
        "    for item in dictlist:\n",
        "        f.write(\"%s\\n\" % item)"
      ],
      "execution_count": 0,
      "outputs": []
    },
    {
      "metadata": {
        "id": "PMTNJFjlGK-_",
        "colab_type": "code",
        "outputId": "fb2b2abb-7e46-4b42-df8c-22845d7b49da",
        "colab": {
          "base_uri": "https://localhost:8080/",
          "height": 34
        }
      },
      "cell_type": "code",
      "source": [
        "s=metrics.calinski_harabaz_score(points, dictlist)\n",
        "print(\"s for minpts = 3:\",s)"
      ],
      "execution_count": 289,
      "outputs": [
        {
          "output_type": "stream",
          "text": [
            "s for minpts = 3: 84.7266978731716\n"
          ],
          "name": "stdout"
        }
      ]
    },
    {
      "metadata": {
        "id": "g0LBLbf5zyny",
        "colab_type": "text"
      },
      "cell_type": "markdown",
      "source": [
        "min_distance [\n",
        "\n",
        "s for minpts = 2: 74.45160927755256 NMI= 0.3926 n clusters=120 eps=0.0000005\n",
        "s for minpts = 2: 72.80675827872331 n clusters=120 eps=0.0000001\n",
        "s for minpts = 3: 70.67096955711095 n clusters=120 eps=0.0000005\n",
        "s for minpts = 5: 70.67096955711095 n clusters=120 eps=0.0000005\n",
        "s for minpts = 7: 70.67096955711095 n clusters=120 eps=0.0000005\n",
        "s for minpts = 9: 70.97836987748941  n clusters=120 eps=0.0000005\n",
        "s for minpts = 11: 71.36137784960935 n clusters=120 eps=0.0000005\n",
        "s for minpts = 13: 70.28323663611242 n clusters=120 eps=0.0000005\n",
        "s for minpts = 15: 69.58656416857333 n clusters=120 eps=0.0000005\n",
        "s for minpts = 17: 66.16326183614257 n clusters=120 eps=0.0000005\n",
        "s for minpts = 19: 52.88963138874489 n clusters=120 eps=0.0000005\n",
        "s for minpts = 21:  n clusters=120 eps=0.0000005\n",
        "\n",
        "s for minpts = 3: 84.7266978731716 n clusters=101 eps=0.0000005\n",
        "s for minpts = 2: 81.79723014065276 n clusters=101 eps=0.0000005\n",
        "s for minpts = 2: 81.79723014065276 n clusters=101 eps=0.0000001\n",
        "s for minpts = 3: 78.32158978857407 NMI= 0.3777 n clusters=101 eps=0.0000005\n",
        "s for minpts = 2: 74.87772537859286 n_cluster=101 eps=0.0000001\n",
        "s for minpts = 3: 74.87772537859286 n_cluster=101 eps=0.0000001 length of core points : 58 length of border points: 21 length of noise points: 22\n",
        "s for minpts = 4: 76.74565955566457  n_cluster=101 eps=0.0000001 length of core points : 34 length of border points: 37 length of noise points: 30 ]\n",
        "\n",
        "\n",
        "\n",
        "\n"
      ]
    },
    {
      "metadata": {
        "id": "nrTBlkQmGK_D",
        "colab_type": "code",
        "colab": {}
      },
      "cell_type": "code",
      "source": [
        "#precomputed as it takes lot of memory and time to compute score for parameters n_clusters=120,eps=0.0000005,k = 3 to 21\n",
        "score=[70.671,70.671,70.671,70.978,71.361,70.283,69.586,66.163,52.889,42.44]"
      ],
      "execution_count": 0,
      "outputs": []
    },
    {
      "metadata": {
        "id": "99iaBI8LGK_F",
        "colab_type": "code",
        "outputId": "8e29ef02-6414-4dbf-bc0e-606ff624ffc7",
        "colab": {
          "base_uri": "https://localhost:8080/",
          "height": 300
        }
      },
      "cell_type": "code",
      "source": [
        "k=[3,5,7,9,11,13,15,17,19,21]\n",
        "plt.xlabel('Minpts')\n",
        "plt.ylabel('Calinski and Harabaz Score')\n",
        "plt.plot(k,score)"
      ],
      "execution_count": 291,
      "outputs": [
        {
          "output_type": "execute_result",
          "data": {
            "text/plain": [
              "[<matplotlib.lines.Line2D at 0x7f44c0719b70>]"
            ]
          },
          "metadata": {
            "tags": []
          },
          "execution_count": 291
        },
        {
          "output_type": "display_data",
          "data": {
            "image/png": "[encoded data removed]",
            "text/plain": [
              "<Figure size 432x288 with 1 Axes>"
            ]
          },
          "metadata": {
            "tags": []
          }
        }
      ]
    }
  ]
}